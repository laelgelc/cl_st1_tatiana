{
 "cells": [
  {
   "cell_type": "markdown",
   "id": "810d9f10-ec19-4b09-8f90-e983e460b319",
   "metadata": {},
   "source": [
    "<center>\n",
    "<img src=\"https://laelgelcpublic.s3.sa-east-1.amazonaws.com/lael_50_years_narrow_white.png.no_years.400px_96dpi.png\" width=\"300\" alt=\"LAEL 50 years logo\">\n",
    "<h3>APPLIED LINGUISTICS GRADUATE PROGRAMME (LAEL)</h3>\n",
    "</center>\n",
    "<hr>"
   ]
  },
  {
   "cell_type": "markdown",
   "id": "888c2c96-2fc3-4a1a-995b-c388036a2a15",
   "metadata": {},
   "source": "# Corpus Linguistics - Study 1 - Phase 1 - Tatiana"
  },
  {
   "metadata": {},
   "cell_type": "markdown",
   "source": "This document aims to identify duplicates in the project's image dataset.",
   "id": "4d6306864193445c"
  },
  {
   "cell_type": "markdown",
   "id": "a685d8b0-7715-45a6-9489-2d3db9b346c8",
   "metadata": {},
   "source": [
    "## Required Python packages"
   ]
  },
  {
   "cell_type": "markdown",
   "id": "c0e16e73-b1b9-4838-8cce-a29dc300868e",
   "metadata": {},
   "source": [
    "- <>\n",
    "- <>"
   ]
  },
  {
   "metadata": {},
   "cell_type": "markdown",
   "source": "## Import the required libraries",
   "id": "39c431aae95995cc"
  },
  {
   "metadata": {
    "ExecuteTime": {
     "end_time": "2025-08-05T13:13:56.578275Z",
     "start_time": "2025-08-05T13:13:50.985136Z"
    }
   },
   "cell_type": "code",
   "outputs": [],
   "execution_count": 1,
   "source": [
    "import os\n",
    "import sys\n",
    "import pandas as pd\n",
    "import logging\n",
    "from tqdm import tqdm\n",
    "import shutil"
   ],
   "id": "fa1710f30fcb38de"
  },
  {
   "metadata": {},
   "cell_type": "markdown",
   "source": "## Define input variables",
   "id": "66a6054bf0195f15"
  },
  {
   "metadata": {
    "ExecuteTime": {
     "end_time": "2025-08-05T13:14:34.884998Z",
     "start_time": "2025-08-05T13:14:34.880782Z"
    }
   },
   "cell_type": "code",
   "outputs": [],
   "execution_count": 2,
   "source": [
    "input_directory = 'cl_st1_ph1_tatiana_images'\n",
    "output_directory = 'cl_st1_ph1_output'\n",
    "log_filename = f\"{output_directory}/cl_st1_ph1_tatiana.log\""
   ],
   "id": "c6f726e55674f42e"
  },
  {
   "metadata": {},
   "cell_type": "markdown",
   "source": "## Create output directory",
   "id": "14c3b78a8f7849ec"
  },
  {
   "metadata": {
    "ExecuteTime": {
     "end_time": "2025-07-19T15:48:14.819938Z",
     "start_time": "2025-07-19T15:48:14.812308Z"
    }
   },
   "cell_type": "code",
   "outputs": [
    {
     "name": "stdout",
     "output_type": "stream",
     "text": [
      "Output directory successfully created.\n"
     ]
    }
   ],
   "execution_count": 3,
   "source": [
    "# Check if the output directory already exists. If it does, do nothing. If it doesn't exist, create it.\n",
    "if os.path.exists(output_directory):\n",
    "    print('Output directory already exists.')\n",
    "else:\n",
    "    try:\n",
    "        os.makedirs(output_directory)\n",
    "        print('Output directory successfully created.')\n",
    "    except OSError as e:\n",
    "        print('Failed to create the directory:', e)\n",
    "        sys.exit(1)"
   ],
   "id": "116a1cb51603fb88"
  },
  {
   "metadata": {},
   "cell_type": "markdown",
   "source": "## Set up logging",
   "id": "6e59a5d2726e7ec8"
  },
  {
   "metadata": {
    "ExecuteTime": {
     "end_time": "2025-08-05T13:15:06.661439Z",
     "start_time": "2025-08-05T13:15:06.656976Z"
    }
   },
   "cell_type": "code",
   "outputs": [],
   "execution_count": 3,
   "source": [
    "logging.basicConfig(\n",
    "    level=logging.INFO,\n",
    "    format='%(asctime)s - %(levelname)s - %(message)s',\n",
    "    filename = log_filename\n",
    ")"
   ],
   "id": "db97665bcd4e09ee"
  },
  {
   "metadata": {},
   "cell_type": "markdown",
   "source": "",
   "id": "337f8d3845ad1027"
  }
 ],
 "metadata": {
  "jupytext": {
   "formats": "ipynb,py:percent"
  },
  "kernelspec": {
   "display_name": "Python 3 (ipykernel)",
   "language": "python",
   "name": "python3"
  },
  "language_info": {
   "codemirror_mode": {
    "name": "ipython",
    "version": 3
   },
   "file_extension": ".py",
   "mimetype": "text/x-python",
   "name": "python",
   "nbconvert_exporter": "python",
   "pygments_lexer": "ipython3",
   "version": "3.12.11"
  }
 },
 "nbformat": 4,
 "nbformat_minor": 5
}
